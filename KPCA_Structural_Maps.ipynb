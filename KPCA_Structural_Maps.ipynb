{
 "cells": [
  {
   "cell_type": "code",
   "execution_count": 6,
   "id": "d86669cb",
   "metadata": {},
   "outputs": [],
   "source": [
    "try:\n",
    "    import chemiscope\n",
    "except ImportError:\n",
    "    !pip3 install chemiscope\n",
    "    import chemiscope\n",
    "\n",
    "try:\n",
    "    import dscribe\n",
    "except ImportError:\n",
    "    !pip3 install dscribe\n",
    "    \n",
    "from dscribe.descriptors import MBTR\n",
    "from dscribe.kernels import REMatchKernel\n",
    "from sklearn.preprocessing import normalize\n",
    "from sklearn.decomposition import KernelPCA\n",
    "from sklearn.metrics.pairwise import cosine_similarity\n",
    "\n",
    "import numpy as np\n",
    "from ase.db import connect\n",
    "import math\n",
    "from utils import *"
   ]
  },
  {
   "cell_type": "code",
   "execution_count": 17,
   "id": "3df389ad",
   "metadata": {},
   "outputs": [],
   "source": [
    "orientation='100'\n",
    "calculate_kernel = False\n",
    "if calculate_kernel:\n",
    "    all_systems_rows = []\n",
    "    frames = []\n",
    "    for t, term in enumerate(termination_types[orientation]):\n",
    "        this_db = connect('2dpv_set_'+orientation+'_'+term+'.db')\n",
    "        for thick in [3, 5, 7, 9]:\n",
    "            for i in range(len(A_site_list)):\n",
    "                for a in A_site_list[i]:\n",
    "                    for b in B_site_list[i]:\n",
    "                        for c in C_site_list[i]:\n",
    "                            system_name = a + b + c\n",
    "\n",
    "                            uid = system_name + '3_' + str(orientation) + \"_\" + str(term) + \"_\" + str(thick)\n",
    "                            row = None\n",
    "                            row = this_db.get(selection=[('uid', '=', uid)])\n",
    "\n",
    "                            all_systems_rows.append(row)\n",
    "                            frames.append(row.toatoms())\n",
    "\n",
    "    all_desc = [row_to_mbtr_descriptor(row) for row in all_systems_rows]\n",
    "    kernel_matrix = [[1.0 for _ in range(len(all_desc))] for _ in range(len(all_desc))]\n",
    "\n",
    "    for i in range(len(all_desc) - 1):\n",
    "        for j in range(i + 1, len(all_desc)):\n",
    "            this_kernel = cosine_similarity(all_desc[i].reshape(-1, 1), all_desc[j].reshape(-1, 1))[0][0]\n",
    "            kernel_matrix[i][j] = this_kernel\n",
    "            kernel_matrix[j][i] = this_kernel\n",
    "else:\n",
    "    import pickle\n",
    "    kernel = pickle.load(open('similarity_kernel_'+orientation+'_mbtr.bp','rb'))\n",
    "    frames = [i.toatoms() for i in kernel['structures']]\n",
    "    kpca_1 = kernel['kpca1']\n",
    "    kpca_2 = kernel['kpca2']"
   ]
  },
  {
   "cell_type": "code",
   "execution_count": 24,
   "id": "c14e5815",
   "metadata": {},
   "outputs": [
    {
     "name": "stdout",
     "output_type": "stream",
     "text": [
      "(1696, 2)\n"
     ]
    },
    {
     "data": {
      "application/vnd.jupyter.widget-view+json": {
       "model_id": "bc083e8984a040e387e1b0e7e04817e4",
       "version_major": 2,
       "version_minor": 0
      },
      "text/plain": [
       "ChemiscopeWidget(value=None, data='{\"meta\": {\"name\": \" \"}, \"structures\": [{\"size\": 8, \"names\": [\"F\", \"F\", \"F\",…"
      ]
     },
     "metadata": {},
     "output_type": "display_data"
    }
   ],
   "source": [
    "pca = np.array([kpca_1,kpca_2]).T\n",
    "print(np.shape(pca))\n",
    "properties = {\n",
    "    \"PCA\": pca,\n",
    "    \"termination\": kernel['termination'],\n",
    "    \"energy\": kernel['energy'],\n",
    "    \"tolerance_factor\": kernel['tolerance_factor']\n",
    "}\n",
    "widget = chemiscope.show(frames, properties)\n",
    "widget\n"
   ]
  },
  {
   "cell_type": "code",
   "execution_count": null,
   "id": "a293577d",
   "metadata": {},
   "outputs": [],
   "source": []
  }
 ],
 "metadata": {
  "kernelspec": {
   "display_name": "Python 3",
   "language": "python",
   "name": "python3"
  },
  "language_info": {
   "codemirror_mode": {
    "name": "ipython",
    "version": 3
   },
   "file_extension": ".py",
   "mimetype": "text/x-python",
   "name": "python",
   "nbconvert_exporter": "python",
   "pygments_lexer": "ipython3",
   "version": "3.8.8"
  }
 },
 "nbformat": 4,
 "nbformat_minor": 5
}
